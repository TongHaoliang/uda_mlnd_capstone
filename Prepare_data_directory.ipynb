{
 "cells": [
  {
   "cell_type": "code",
   "execution_count": 1,
   "metadata": {
    "collapsed": true
   },
   "outputs": [],
   "source": [
    "import os,shutil"
   ]
  },
  {
   "cell_type": "code",
   "execution_count": 2,
   "metadata": {
    "collapsed": false
   },
   "outputs": [
    {
     "name": "stdout",
     "output_type": "stream",
     "text": [
      "Read drivers data\n",
      "Done\n"
     ]
    }
   ],
   "source": [
    "#read driver info in csv file to python dict\n",
    "dr = dict()\n",
    "print('Read drivers data')\n",
    "f = open('driver_imgs_list.csv', 'rb')\n",
    "line = f.readline()\n",
    "while (1):\n",
    "    line = f.readline()\n",
    "    if line == '':\n",
    "        break\n",
    "    arr = line.strip().split(',')\n",
    "    dr[arr[2]] = arr[0]\n",
    "f.close()\n",
    "print 'Done'"
   ]
  },
  {
   "cell_type": "code",
   "execution_count": 5,
   "metadata": {
    "collapsed": false
   },
   "outputs": [],
   "source": [
    "#create validation directories\n",
    "import os,sys\n",
    "import shutil\n",
    "try: \n",
    "    os.mkdir('validation')\n",
    "except:\n",
    "    pass\n",
    "for i in range(10):\n",
    "    file_name = \"validation/c\"+str(i)\n",
    "    try:\n",
    "        os.mkdir(file_name)\n",
    "    except:\n",
    "        pass\n"
   ]
  },
  {
   "cell_type": "code",
   "execution_count": 6,
   "metadata": {
    "collapsed": false
   },
   "outputs": [
    {
     "name": "stdout",
     "output_type": "stream",
     "text": [
      "Counter({'p021': 1237, 'p022': 1233, 'p024': 1226, 'p026': 1196, 'p016': 1078, 'p066': 1034, 'p049': 1011, 'p051': 920, 'p014': 876, 'p015': 875, 'p035': 848, 'p047': 835, 'p012': 823, 'p081': 823, 'p064': 820, 'p075': 814, 'p061': 809, 'p056': 794, 'p050': 790, 'p052': 740, 'p002': 725, 'p045': 724, 'p039': 651, 'p041': 605, 'p042': 591, 'p072': 346})\n",
      "No. of unique dirvers 26\n"
     ]
    }
   ],
   "source": [
    "#collect driver info\n",
    "from collections import Counter\n",
    "drivers_info = Counter(dr.values())\n",
    "print drivers_info\n",
    "print \"No. of unique dirvers\", len(drivers_info)"
   ]
  },
  {
   "cell_type": "code",
   "execution_count": 7,
   "metadata": {
    "collapsed": true
   },
   "outputs": [],
   "source": [
    "def creat_kf_valid_dir(valid_drivers):\n",
    "    for i in range(10):\n",
    "        src_path = 'validation/c'+str(i)+'/'\n",
    "        dst_path = 'train/c'+str(i)+'/'\n",
    "        listdir = os.listdir(src_path)\n",
    "        for j in range (len(listdir)):\n",
    "                file = listdir[j]\n",
    "                src = src_path + file\n",
    "                dst = dst_path + file \n",
    "                shutil.move(src,dst)\n",
    "    print 'Valid directory restored. '\n",
    "    \n",
    "    for i in range(10):\n",
    "        src_path = 'train/c'+str(i)+'/'\n",
    "        dst_path = 'validation/c'+str(i)+'/'\n",
    "        listdir = os.listdir(src_path)\n",
    "        for j in range (len(listdir)):\n",
    "            if dr[listdir[j]] in valid_drivers:\n",
    "                file = listdir[j]\n",
    "                src = src_path + file\n",
    "                dst = dst_path + file \n",
    "                shutil.move(src,dst)          \n",
    "        else:\n",
    "            pass\n",
    "    print 'Valid directory created for: ', valid_drivers\n",
    "    print 'No. of valid samples', sum([len(x) for _, _, x in os.walk('validation')])"
   ]
  },
  {
   "cell_type": "code",
   "execution_count": 8,
   "metadata": {
    "collapsed": false
   },
   "outputs": [
    {
     "name": "stdout",
     "output_type": "stream",
     "text": [
      "Valid directory restored. \n",
      "Valid directory created for:  ['p052', 'p051', 'p050']\n",
      "No. of valid samples 2450\n"
     ]
    }
   ],
   "source": [
    "creat_kf_valid_dir(['p052', 'p051', 'p050'])"
   ]
  }
 ],
 "metadata": {
  "anaconda-cloud": {},
  "kernelspec": {
   "display_name": "Python [conda env:mlnd-dl]",
   "language": "python",
   "name": "conda-env-mlnd-dl-py"
  },
  "language_info": {
   "codemirror_mode": {
    "name": "ipython",
    "version": 2
   },
   "file_extension": ".py",
   "mimetype": "text/x-python",
   "name": "python",
   "nbconvert_exporter": "python",
   "pygments_lexer": "ipython2",
   "version": "2.7.12"
  }
 },
 "nbformat": 4,
 "nbformat_minor": 1
}
