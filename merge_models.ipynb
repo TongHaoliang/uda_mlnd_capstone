{
 "cells": [
  {
   "cell_type": "code",
   "execution_count": 2,
   "metadata": {
    "collapsed": true
   },
   "outputs": [],
   "source": [
    "import numpy as np\n",
    "import pandas as pd"
   ]
  },
  {
   "cell_type": "code",
   "execution_count": 3,
   "metadata": {
    "collapsed": true
   },
   "outputs": [],
   "source": [
    "basedir =''\n",
    "modelname_list = ['1_inceptionV3_p056_p066.csv',\n",
    "                  '2_ResNet50_400_300_p014_p039_l0.csv',\n",
    "                  '3_Xception_p045_p047_l66.csv',\n",
    "                  '4_Xception_p045_p047_l0.csv',\n",
    "                  '5_incpetionV3_p024_p026_l133.csv',\n",
    "                  '6_ResNet50_p021_p022_l0.csv'\n",
    "                 ]"
   ]
  },
  {
   "cell_type": "code",
   "execution_count": 3,
   "metadata": {
    "collapsed": true
   },
   "outputs": [],
   "source": [
    "weight_list = [1,1,1,1,1,1]\n",
    "weight_sum = sum(weight_list)\n",
    "weight_norm = [float(x)/weight_sum for x in weight_list]"
   ]
  },
  {
   "cell_type": "code",
   "execution_count": 5,
   "metadata": {
    "collapsed": false
   },
   "outputs": [],
   "source": [
    "for i, x in enumerate(modelname_list):\n",
    "    pre_submission = pd.read_csv(basedir+x)\n",
    "    after_submission = pre_submission.drop('img',axis =1)*weight_norm[i]\n",
    "    if i == 0:\n",
    "        merge_submission = after_submission\n",
    "        img = pre_submission['img']\n",
    "    else:\n",
    "        merge_submission += after_submission"
   ]
  },
  {
   "cell_type": "code",
   "execution_count": 7,
   "metadata": {
    "collapsed": true
   },
   "outputs": [],
   "source": [
    "clip_submission = merge_submission.clip(0.001,1)\n",
    "clip_submission.insert(0, 'img', img)\n",
    "clip_submission.to_csv(basedir+'6_models_ensembled.csv', index=False)"
   ]
  }
 ],
 "metadata": {
  "anaconda-cloud": {},
  "kernelspec": {
   "display_name": "Python [conda env:mlnd-dl]",
   "language": "python",
   "name": "conda-env-mlnd-dl-py"
  },
  "language_info": {
   "codemirror_mode": {
    "name": "ipython",
    "version": 2
   },
   "file_extension": ".py",
   "mimetype": "text/x-python",
   "name": "python",
   "nbconvert_exporter": "python",
   "pygments_lexer": "ipython2",
   "version": "2.7.12"
  }
 },
 "nbformat": 4,
 "nbformat_minor": 1
}
